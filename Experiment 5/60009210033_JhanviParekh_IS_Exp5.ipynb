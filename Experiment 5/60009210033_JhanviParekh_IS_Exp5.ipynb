{
  "nbformat": 4,
  "nbformat_minor": 0,
  "metadata": {
    "colab": {
      "provenance": []
    },
    "kernelspec": {
      "name": "python3",
      "display_name": "Python 3"
    },
    "language_info": {
      "name": "python"
    }
  },
  "cells": [
    {
      "cell_type": "code",
      "source": [
        "import math\n",
        "\n",
        "key = \"4312567\"\n",
        "\n",
        "# Encryption\n",
        "def encryptMessage(msg):\n",
        "    cipher = \"\"\n",
        "    k_indx = 0\n",
        "    msg_len = float(len(msg))\n",
        "    msg_lst = list(msg)\n",
        "    key_lst = sorted(list(key))\n",
        "    col = len(key)\n",
        "    row = int(math.ceil(msg_len / col))\n",
        "    fill_null = int((row * col) - msg_len)\n",
        "    msg_lst.extend('_' * fill_null)\n",
        "    matrix = [msg_lst[i: i + col] for i in range(0, len(msg_lst), col)]\n",
        "\n",
        "    # Print the grid\n",
        "    print(\"Grid:\")\n",
        "    for row in matrix:\n",
        "        print(' | '.join(row))\n",
        "    print()\n",
        "\n",
        "    for _ in range(col):\n",
        "        curr_idx = key.index(key_lst[k_indx])\n",
        "        cipher += ''.join([row[curr_idx] for row in matrix])\n",
        "        k_indx += 1\n",
        "\n",
        "    return cipher"
      ],
      "metadata": {
        "id": "AbGgD29SZuft"
      },
      "execution_count": null,
      "outputs": []
    },
    {
      "cell_type": "code",
      "source": [
        "msg = \"attackpostponeduntiltwoamxyz\"\n",
        "\n",
        "cipher = encryptMessage(msg)\n",
        "print(\"Encrypted Message: {}\".format(cipher))"
      ],
      "metadata": {
        "colab": {
          "base_uri": "https://localhost:8080/"
        },
        "id": "hns6-xxHck77",
        "outputId": "403650a2-3cec-4ed5-e90c-2fae7bf4f3d6"
      },
      "execution_count": null,
      "outputs": [
        {
          "output_type": "stream",
          "name": "stdout",
          "text": [
            "Grid:\n",
            "a | t | t | a | c | k | p\n",
            "o | s | t | p | o | n | e\n",
            "d | u | n | t | i | l | t\n",
            "w | o | a | m | x | y | z\n",
            "\n",
            "Encrypted Message: ttnaaptmtsuoaodwcoixknlypetz\n"
          ]
        }
      ]
    },
    {
      "cell_type": "code",
      "source": [
        "def decryptMessage(cipher):\n",
        "\tmsg = \"\"\n",
        "\tk_indx = 0\n",
        "\tmsg_indx = 0\n",
        "\tmsg_len = float(len(cipher))\n",
        "\tmsg_lst = list(cipher)\n",
        "\tcol = len(key)\n",
        "\trow = int(math.ceil(msg_len / col))\n",
        "\n",
        "\tkey_lst = sorted(list(key))\n",
        "\tdec_cipher = []\n",
        "\tfor _ in range(row):\n",
        "\t\tdec_cipher += [[None] * col]\n",
        "\tfor _ in range(col):\n",
        "\t\tcurr_idx = key.index(key_lst[k_indx])\n",
        "\n",
        "\t\tfor j in range(row):\n",
        "\t\t\tdec_cipher[j][curr_idx] = msg_lst[msg_indx]\n",
        "\t\t\tmsg_indx += 1\n",
        "\t\tk_indx += 1\n",
        "\ttry:\n",
        "\t\tmsg = ''.join(sum(dec_cipher, []))\n",
        "\texcept TypeError:\n",
        "\t\traise TypeError(\"This program cannot\",\n",
        "\t\t\t\t\t\t\"handle repeating words.\")\n",
        "\n",
        "\tnull_count = msg.count('_')\n",
        "\n",
        "\tif null_count > 0:\n",
        "\t\treturn msg[: -null_count]\n",
        "\n",
        "\treturn msg\n",
        "\n",
        "msg = \"ttnaaptmtsuoaodwcoixknlypetz\"\n",
        "print(\"Decryped Message: {}\".\n",
        "\tformat(decryptMessage(cipher)))\n"
      ],
      "metadata": {
        "colab": {
          "base_uri": "https://localhost:8080/"
        },
        "id": "VJjSE-svbqfr",
        "outputId": "e5c24c8b-a216-459c-963f-42548967f011"
      },
      "execution_count": null,
      "outputs": [
        {
          "output_type": "stream",
          "name": "stdout",
          "text": [
            "Decryped Message: attackpostponeduntiltwoamxyz\n"
          ]
        }
      ]
    }
  ]
}