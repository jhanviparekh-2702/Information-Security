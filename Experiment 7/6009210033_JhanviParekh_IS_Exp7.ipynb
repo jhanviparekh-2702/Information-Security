{
  "nbformat": 4,
  "nbformat_minor": 0,
  "metadata": {
    "colab": {
      "provenance": []
    },
    "kernelspec": {
      "name": "python3",
      "display_name": "Python 3"
    },
    "language_info": {
      "name": "python"
    }
  },
  "cells": [
    {
      "cell_type": "code",
      "execution_count": null,
      "metadata": {
        "colab": {
          "base_uri": "https://localhost:8080/"
        },
        "id": "oAKoVuShvPFS",
        "outputId": "a742fbff-7558-4351-93a9-86f112689d8e"
      },
      "outputs": [
        {
          "output_type": "stream",
          "name": "stdout",
          "text": [
            "r\tqt\tx\ty\n",
            "112\t37\t1\t0\n",
            "3\t-\t0\t1\n",
            "1\t-\t1\t-37\n",
            "P Value: 29\n",
            "Q Value: 5\n",
            "N Value: 145\n",
            "D Value: 75\n",
            "E Value: 3\n",
            "\n",
            "Public key: (3, 145)\n",
            "Private key: (75, 145)\n",
            "\n",
            "Enter plain text (int): 20\n",
            "After encryption\n",
            "The cipher text is: 25 \n",
            "\n",
            "After decryption\n",
            "The plain text is: 20\n"
          ]
        }
      ],
      "source": [
        "import math\n",
        "\n",
        "def make_prime(number, *exclude):\n",
        "    while True:\n",
        "        for i in range(2, number):\n",
        "            if number in exclude:\n",
        "                number += 1\n",
        "            if number % i == 0:\n",
        "                number += 1\n",
        "                break\n",
        "        if i == number - 1:\n",
        "            break\n",
        "    return number\n",
        "\n",
        "def get_e(p, q, phi_n):\n",
        "    for i in range(2, phi_n):\n",
        "        if math.gcd(i, phi_n) == 1 and i != p and i != q:\n",
        "            return i\n",
        "\n",
        "def eem(phi_n, e):\n",
        "    r = [phi_n, e]\n",
        "    qt = []\n",
        "    x = [1, 0]\n",
        "    y = [0, 1]\n",
        "\n",
        "    while r[-1] != 1:\n",
        "        qt.append(r[-2] // r[-1])\n",
        "        r.append(r[-2] % r[-1])\n",
        "        x.append(x[-2] - qt[-1] * x[-1])\n",
        "        y.append(y[-2] - qt[-1] * y[-1])\n",
        "\n",
        "    print('r\\tqt\\tx\\ty')\n",
        "    for i in range(len(r)):\n",
        "        print(f'{r[i]}\\t{qt[i] if i < len(qt) else \"-\"}\\t{x[i]}\\t{y[i]}')\n",
        "\n",
        "    return y[-1] % phi_n\n",
        "\n",
        "p = len('abcdefghijklmnopqrstuvwxyz')\n",
        "q = len('abcd')\n",
        "\n",
        "p = make_prime(p)\n",
        "q = make_prime(q, p)\n",
        "\n",
        "n = p * q\n",
        "phi_n = (p - 1) * (q - 1)\n",
        "e = get_e(p, q, phi_n)\n",
        "d = eem(phi_n, e)\n",
        "print('P Value:', p)\n",
        "print('Q Value:' , q)\n",
        "print('N Value:', n)\n",
        "print('D Value:' , d)\n",
        "print('E Value:', e)\n",
        "\n",
        "print()\n",
        "print('Public key:', (e, n))\n",
        "print('Private key:', (d, n))\n",
        "print()\n",
        "\n",
        "pt = int(input(\"Enter plain text (int): \"))\n",
        "\n",
        "ct = pow(pt, e, n)\n",
        "print(\"After encryption\\nThe cipher text is:\", ct, '\\n')\n",
        "\n",
        "pt = pow(ct, d, n)\n",
        "print('After decryption\\nThe plain text is:', pt)"
      ]
    },
    {
      "cell_type": "code",
      "source": [
        "%pip install cryptography"
      ],
      "metadata": {
        "colab": {
          "base_uri": "https://localhost:8080/"
        },
        "id": "cBRbQK_015k6",
        "outputId": "15ba12aa-6b18-4625-9e45-960dd491619f"
      },
      "execution_count": null,
      "outputs": [
        {
          "output_type": "stream",
          "name": "stdout",
          "text": [
            "Requirement already satisfied: cryptography in /usr/local/lib/python3.10/dist-packages (41.0.5)\n",
            "Requirement already satisfied: cffi>=1.12 in /usr/local/lib/python3.10/dist-packages (from cryptography) (1.16.0)\n",
            "Requirement already satisfied: pycparser in /usr/local/lib/python3.10/dist-packages (from cffi>=1.12->cryptography) (2.21)\n"
          ]
        }
      ]
    },
    {
      "cell_type": "code",
      "source": [
        "import random\n",
        "\n",
        "\n",
        "def gcd(a, b):\n",
        "    while b != 0:\n",
        "        a, b = b, a % b\n",
        "    return a\n",
        "\n",
        "\n",
        "def multiplicative_inverse(e, phi):\n",
        "    d = 0\n",
        "    x1 = 0\n",
        "    x2 = 1\n",
        "    y1 = 1\n",
        "    temp_phi = phi\n",
        "\n",
        "    while e > 0:\n",
        "        temp1 = temp_phi//e\n",
        "        temp2 = temp_phi - temp1 * e\n",
        "        temp_phi = e\n",
        "        e = temp2\n",
        "\n",
        "        x = x2 - temp1 * x1\n",
        "        y = d - temp1 * y1\n",
        "\n",
        "        x2 = x1\n",
        "        x1 = x\n",
        "        d = y1\n",
        "        y1 = y\n",
        "\n",
        "    if temp_phi == 1:\n",
        "        return d + phi\n",
        "\n",
        "\n",
        "'''\n",
        "Tests to see if a number is prime.\n",
        "'''\n",
        "\n",
        "\n",
        "def is_prime(num):\n",
        "    if num == 2:\n",
        "        return True\n",
        "    if num < 2 or num % 2 == 0:\n",
        "        return False\n",
        "    for n in range(3, int(num**0.5)+2, 2):\n",
        "        if num % n == 0:\n",
        "            return False\n",
        "    return True\n",
        "\n",
        "\n",
        "def generate_key_pair(p, q):\n",
        "    if not (is_prime(p) and is_prime(q)):\n",
        "        raise ValueError('Both numbers must be prime.')\n",
        "    elif p == q:\n",
        "        raise ValueError('p and q cannot be equal')\n",
        "\n",
        "    n = p * q\n",
        "\n",
        "    phi = (p-1) * (q-1)\n",
        "\n",
        "    e = random.randrange(1, phi)\n",
        "\n",
        "    g = gcd(e, phi)\n",
        "    while g != 1:\n",
        "        e = random.randrange(1, phi)\n",
        "        g = gcd(e, phi)\n",
        "    d = multiplicative_inverse(e, phi)\n",
        "\n",
        "    return ((e, n), (d, n))\n",
        "\n",
        "\n",
        "def encrypt(pk, plaintext):\n",
        "    key, n = pk\n",
        "    cipher = [pow(ord(char), key, n) for char in plaintext]\n",
        "    return cipher\n",
        "\n",
        "\n",
        "def decrypt(pk, ciphertext):\n",
        "    key, n = pk\n",
        "    aux = [str(pow(char, key, n)) for char in ciphertext]\n",
        "    plain = [chr(int(char2)) for char2 in aux]\n",
        "    return ''.join(plain)\n",
        "\n",
        "\n",
        "if __name__ == '__main__':\n",
        "    p = int(input(\" - Enter a prime number (17, 19, 23, etc): \"))\n",
        "    q = int(input(\" - Enter another prime number (Not one you entered above): \"))\n",
        "\n",
        "    print(\" - Generating your public / private key-pairs now\")\n",
        "\n",
        "    public, private = generate_key_pair(p, q)\n",
        "\n",
        "    print(\" - Your public key is \", public, \" and your private key is \", private)\n",
        "\n",
        "    message = input(\" - Enter a message to encrypt with your public key: \")\n",
        "    encrypted_msg = encrypt(public, message)\n",
        "\n",
        "    print(\" - Your encrypted message is: \", ''.join(map(lambda x: str(x), encrypted_msg)))\n",
        "    print(\" - Decrypting message with private key \", private,)\n",
        "    print(\" - Your message is: \", decrypt(private, encrypted_msg))"
      ],
      "metadata": {
        "colab": {
          "base_uri": "https://localhost:8080/"
        },
        "id": "4-C2By6L16J4",
        "outputId": "9aeeb1b5-11a7-49d1-c218-1c6295477895"
      },
      "execution_count": null,
      "outputs": [
        {
          "output_type": "stream",
          "name": "stdout",
          "text": [
            " - Enter a prime number (17, 19, 23, etc): 17\n",
            " - Enter another prime number (Not one you entered above): 19\n",
            " - Generating your public / private key-pairs now\n",
            " - Your public key is  (229, 323)  and your private key is  (205, 323)\n",
            " - Enter a message to encrypt with your public key: Hello World\n",
            " - Your encrypted message is:  276118262262195534919519026236\n",
            " - Decrypting message with private key  (205, 323)\n",
            " - Your message is:  Hello World\n"
          ]
        }
      ]
    }
  ]
}