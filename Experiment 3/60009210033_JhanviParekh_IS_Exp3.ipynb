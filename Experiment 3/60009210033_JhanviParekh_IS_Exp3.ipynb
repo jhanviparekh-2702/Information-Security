{
  "nbformat": 4,
  "nbformat_minor": 0,
  "metadata": {
    "colab": {
      "provenance": []
    },
    "kernelspec": {
      "name": "python3",
      "display_name": "Python 3"
    },
    "language_info": {
      "name": "python"
    }
  },
  "cells": [
    {
      "cell_type": "markdown",
      "source": [
        "Caesar Cipher"
      ],
      "metadata": {
        "id": "C-2NfHM3esy0"
      }
    },
    {
      "cell_type": "code",
      "source": [
        "index = {'a': 0, 'b':1, 'c':2, 'd':3, 'e':4, 'f':5, 'g':6, 'h':7, 'i':8, 'j':9, 'k':10, 'l':11, 'm':12, 'n':13, 'o':14, 'p':15, 'q':16, 'r':17, 's':18, 't':19, 'u':20, 'v':21, 'w':22, 'x':23, 'y':24, 'z':25, ' ':32}\n",
        "string = input(\"Enter string: \")\n",
        "key = int(input(\"Please enter a key: \"))\n",
        "encrypted = ''\n",
        "char = list()\n",
        "for x in string:\n",
        "  if(index[x]==32):\n",
        "    encrypted += \" \"\n",
        "  else:\n",
        "    temp = ((index[x] + key)%26)\n",
        "    char += {i for i in index if index[i]==temp}\n",
        "\n",
        "for i in range (0, len(char)):\n",
        "  encrypted += char[i]\n",
        "print(encrypted)"
      ],
      "metadata": {
        "id": "RDZ4KJT6sqWu",
        "outputId": "47dabcfe-3a4e-409c-a663-8d7566d76025",
        "colab": {
          "base_uri": "https://localhost:8080/"
        }
      },
      "execution_count": null,
      "outputs": [
        {
          "output_type": "stream",
          "name": "stdout",
          "text": [
            "Enter string: academy\n",
            "Please enter a key: 3\n",
            "dfdghpb\n"
          ]
        }
      ]
    },
    {
      "cell_type": "code",
      "source": [
        "index = {'a': 0, 'b':1, 'c':2, 'd':3, 'e':4, 'f':5, 'g':6, 'h':7, 'i':8, 'j':9, 'k':10, 'l':11, 'm':12, 'n':13, 'o':14, 'p':15, 'q':16, 'r':17, 's':18, 't':19, 'u':20, 'v':21, 'w':22, 'x':23, 'y':24, 'z':25, ' ':32}\n",
        "string = input(\"Enter string: \")\n",
        "key = int(input(\"Please enter a key: \"))\n",
        "decrypted = ''\n",
        "char = list()\n",
        "for x in string:\n",
        "  if(index[x]==32):\n",
        "    encrypted += \" \"\n",
        "  else:\n",
        "    temp = ((index[x] + key)%26)\n",
        "    char += {i for i in index if index[i]==temp}\n",
        "\n",
        "for i in range (0, len(char)):\n",
        "  decrypted += char[i]\n",
        "print(decrypted)"
      ],
      "metadata": {
        "id": "HzFTGDFssuPP",
        "outputId": "96ed9931-101c-4cd2-93fd-2c25f4a989f1",
        "colab": {
          "base_uri": "https://localhost:8080/"
        }
      },
      "execution_count": null,
      "outputs": [
        {
          "output_type": "stream",
          "name": "stdout",
          "text": [
            "Enter string: dfdghpb\n",
            "Please enter a key: -3\n",
            "academy\n"
          ]
        }
      ]
    },
    {
      "cell_type": "code",
      "execution_count": null,
      "metadata": {
        "colab": {
          "base_uri": "https://localhost:8080/"
        },
        "id": "qm_amqGAdnKB",
        "outputId": "ddc03fd2-8b9c-44d3-a804-8bda78e3f217"
      },
      "outputs": [
        {
          "output_type": "stream",
          "name": "stdout",
          "text": [
            "Enter the text to encrypt: attack\n",
            "Encrypted text: dwwdfn\n"
          ]
        }
      ],
      "source": [
        "def caesar_cipher_encrypt(text):\n",
        "    encrypted_text = \"\"\n",
        "    shift = 3\n",
        "    for char in text:\n",
        "        if char.isalpha():\n",
        "            if char.isupper():\n",
        "                ascii_offset = ord('A')\n",
        "            else:\n",
        "                ascii_offset = ord('a')\n",
        "\n",
        "            encrypted_char = chr(((ord(char) - ascii_offset + shift) % 26) + ascii_offset)\n",
        "            encrypted_text += encrypted_char\n",
        "        else:\n",
        "            encrypted_text += char\n",
        "\n",
        "    return encrypted_text\n",
        "\n",
        "text = input(\"Enter the text to encrypt: \")\n",
        "encrypted_text = caesar_cipher_encrypt(text)\n",
        "print(\"Encrypted text:\", encrypted_text)"
      ]
    },
    {
      "cell_type": "code",
      "source": [
        "def caesar_decrypt(ciphertext, shift):\n",
        "    plaintext = \"\"\n",
        "    for char in ciphertext:\n",
        "        if char.isalpha():\n",
        "            is_upper = char.isupper()\n",
        "            char = char.lower()\n",
        "            decrypted_char = chr(((ord(char) - ord('a') - shift) % 26) + ord('a'))\n",
        "            if is_upper:\n",
        "                decrypted_char = decrypted_char.upper()\n",
        "            plaintext += decrypted_char\n",
        "        else:\n",
        "            plaintext += char\n",
        "    return plaintext\n",
        "\n",
        "text = input(\"Enter the text to decrypt: \")\n",
        "shift = 3\n",
        "\n",
        "decrypted_text = caesar_decrypt(encrypted_text, shift)\n",
        "print(\"Decrypted Text:\", decrypted_text)\n"
      ],
      "metadata": {
        "colab": {
          "base_uri": "https://localhost:8080/"
        },
        "id": "rxRYgMtHeTyL",
        "outputId": "1c2231d3-5c48-4ec2-a8b6-24e869561246"
      },
      "execution_count": null,
      "outputs": [
        {
          "output_type": "stream",
          "name": "stdout",
          "text": [
            "Enter the text to decrypt: dwwdfn\n",
            "Decrypted Text: attack\n"
          ]
        }
      ]
    },
    {
      "cell_type": "markdown",
      "source": [
        "Shift cipher"
      ],
      "metadata": {
        "id": "5j_k1Xb2eyBD"
      }
    },
    {
      "cell_type": "code",
      "source": [
        "def shift_cipher_encrypt(text, shift):\n",
        "    encrypted_text = \"\"\n",
        "\n",
        "    for char in text:\n",
        "        if char.isalpha():\n",
        "            if char.isupper():\n",
        "                ascii_offset = ord('A')\n",
        "            else:\n",
        "                ascii_offset = ord('a')\n",
        "\n",
        "            encrypted_char = chr(((ord(char) - ascii_offset + shift) % 26) + ascii_offset)\n",
        "            encrypted_text += encrypted_char\n",
        "        else:\n",
        "            encrypted_text += char\n",
        "\n",
        "    return encrypted_text\n",
        "\n",
        "text = input(\"Enter the text to encrypt: \")\n",
        "shift = int(input(\"Enter the shift value (an integer): \"))\n",
        "\n",
        "encrypted_text = shift_cipher_encrypt(text, shift)\n",
        "\n",
        "print(\"Encrypted text:\", encrypted_text)"
      ],
      "metadata": {
        "colab": {
          "base_uri": "https://localhost:8080/"
        },
        "id": "lq3Q3D87e0jj",
        "outputId": "200e5684-ec5b-4255-f86b-4c430db9b0ff"
      },
      "execution_count": null,
      "outputs": [
        {
          "output_type": "stream",
          "name": "stdout",
          "text": [
            "Enter the text to encrypt: Academy\n",
            "Enter the shift value (an integer): 25\n",
            "Encrypted text: Zbzcdlx\n"
          ]
        }
      ]
    },
    {
      "cell_type": "code",
      "source": [
        "def shift_caesar_decrypt(ciphertext, shift):\n",
        "    plaintext = \"\"\n",
        "    for char in ciphertext:\n",
        "        if char.isalpha():\n",
        "            is_upper = char.isupper()\n",
        "            char = char.lower()\n",
        "            decrypted_char = chr(((ord(char) - ord('a') - shift) % 26) + ord('a'))\n",
        "            if is_upper:\n",
        "                decrypted_char = decrypted_char.upper()\n",
        "            plaintext += decrypted_char\n",
        "        else:\n",
        "            plaintext += char\n",
        "    return plaintext\n",
        "\n",
        "encrypted_text = \"Zbzcdlx\"\n",
        "shift = 25\n",
        "decrypted_text = shift_caesar_decrypt(encrypted_text, shift)\n",
        "print(\"Decrypted Text:\", decrypted_text)"
      ],
      "metadata": {
        "colab": {
          "base_uri": "https://localhost:8080/"
        },
        "id": "zCVEJDn4e8Fr",
        "outputId": "c4a7e722-6490-45f6-9070-b24c5e2e443b"
      },
      "execution_count": null,
      "outputs": [
        {
          "output_type": "stream",
          "name": "stdout",
          "text": [
            "Decrypted Text: Academy\n"
          ]
        }
      ]
    },
    {
      "cell_type": "markdown",
      "source": [
        "Brute force attack"
      ],
      "metadata": {
        "id": "LVBLa7_cfDAz"
      }
    },
    {
      "cell_type": "code",
      "source": [
        "def BRUTE_FORCE(ciphertext, shift):\n",
        "    plaintext = \"\"\n",
        "    for char in ciphertext:\n",
        "        if char.isalpha():\n",
        "            is_upper = char.isupper()\n",
        "            char = char.lower()\n",
        "            decrypted_char = chr(((ord(char) - ord('a') - shift) % 26) + ord('a'))\n",
        "            if is_upper:\n",
        "                decrypted_char = decrypted_char.upper()\n",
        "            plaintext += decrypted_char\n",
        "        else:\n",
        "            plaintext += char\n",
        "    return plaintext\n",
        "\n",
        "for i in range(0,26):\n",
        "  encrypted_text = \"Dfdghpb\"\n",
        "  shift = i\n",
        "  decrypted_text = BRUTE_FORCE(encrypted_text, shift)\n",
        "  print(\"for key : \" + str(i) + \" Decrypted Text: \" + decrypted_text )"
      ],
      "metadata": {
        "id": "1SqqP1TVfDnz",
        "outputId": "7ccd7a02-806e-4613-a12e-98898f197e58",
        "colab": {
          "base_uri": "https://localhost:8080/"
        }
      },
      "execution_count": null,
      "outputs": [
        {
          "output_type": "stream",
          "name": "stdout",
          "text": [
            "for key : 0 Decrypted Text: Dfdghpb\n",
            "for key : 1 Decrypted Text: Cecfgoa\n",
            "for key : 2 Decrypted Text: Bdbefnz\n",
            "for key : 3 Decrypted Text: Academy\n",
            "for key : 4 Decrypted Text: Zbzcdlx\n",
            "for key : 5 Decrypted Text: Yaybckw\n",
            "for key : 6 Decrypted Text: Xzxabjv\n",
            "for key : 7 Decrypted Text: Wywzaiu\n",
            "for key : 8 Decrypted Text: Vxvyzht\n",
            "for key : 9 Decrypted Text: Uwuxygs\n",
            "for key : 10 Decrypted Text: Tvtwxfr\n",
            "for key : 11 Decrypted Text: Susvweq\n",
            "for key : 12 Decrypted Text: Rtruvdp\n",
            "for key : 13 Decrypted Text: Qsqtuco\n",
            "for key : 14 Decrypted Text: Prpstbn\n",
            "for key : 15 Decrypted Text: Oqorsam\n",
            "for key : 16 Decrypted Text: Npnqrzl\n",
            "for key : 17 Decrypted Text: Mompqyk\n",
            "for key : 18 Decrypted Text: Lnlopxj\n",
            "for key : 19 Decrypted Text: Kmknowi\n",
            "for key : 20 Decrypted Text: Jljmnvh\n",
            "for key : 21 Decrypted Text: Ikilmug\n",
            "for key : 22 Decrypted Text: Hjhkltf\n",
            "for key : 23 Decrypted Text: Gigjkse\n",
            "for key : 24 Decrypted Text: Fhfijrd\n",
            "for key : 25 Decrypted Text: Egehiqc\n"
          ]
        }
      ]
    }
  ]
}